{
 "cells": [
  {
   "cell_type": "code",
   "execution_count": null,
   "id": "5bfd253f",
   "metadata": {},
   "outputs": [],
   "source": [
    "import pandas as pd\n",
    "import numpy as np\n",
    "import matplotlib.pyplot as plt\n",
    "import seaborn as sns\n",
    "\n",
    "from sklearn.model_selection import train_test_split\n",
    "from sklearn.linear_model import LinearRegression\n",
    "from sklearn.tree import DecisionTreeRegressor, plot_tree\n",
    "from sklearn.ensemble import RandomForestRegressor\n",
    "from sklearn.metrics import mean_squared_error, r2_score\n",
    "\n",
    "import warnings\n",
    "warnings.filterwarnings(\"ignore\")\n",
    "sns.set(style=\"whitegrid\")\n"
   ]
  },
  {
   "cell_type": "markdown",
   "id": "9b768fbf",
   "metadata": {},
   "source": [
    "## Veri Seti\n",
    "Bu örnekte doğrudan dosyaya gömülü haliyle kullanılmaktadır."
   ]
  },
  {
   "cell_type": "code",
   "execution_count": null,
   "id": "39230601",
   "metadata": {},
   "outputs": [],
   "source": [
    "# Örnek veri seti: housing.csv (örnek amaçlı veri yükleniyor)\n",
    "from sklearn.datasets import fetch_california_housing\n",
    "data = fetch_california_housing()\n",
    "df = pd.DataFrame(data.data, columns=data.feature_names)\n",
    "df[\"MedHouseVal\"] = data.target\n",
    "df.head()\n"
   ]
  },
  {
   "cell_type": "markdown",
   "id": "58c2dbd2",
   "metadata": {},
   "source": [
    "## Veri Keşfi ve Görselleştirme"
   ]
  },
  {
   "cell_type": "code",
   "execution_count": null,
   "id": "366e2ce9",
   "metadata": {},
   "outputs": [],
   "source": [
    "df.describe()\n"
   ]
  },
  {
   "cell_type": "code",
   "execution_count": null,
   "id": "4c8f67fd",
   "metadata": {},
   "outputs": [],
   "source": [
    "\n",
    "plt.figure(figsize=(8, 5))\n",
    "sns.histplot(df[\"MedHouseVal\"], bins=30, kde=True)\n",
    "plt.title(\"Hedef Değişken (MedHouseVal) Dağılımı\")\n",
    "plt.show()\n"
   ]
  },
  {
   "cell_type": "markdown",
   "id": "46c946fb",
   "metadata": {},
   "source": [
    "## Veri Setini Eğitme ve Test Olarak Ayırma"
   ]
  },
  {
   "cell_type": "code",
   "execution_count": null,
   "id": "caaf7024",
   "metadata": {},
   "outputs": [],
   "source": [
    "X = df.drop(\"MedHouseVal\", axis=1)\n",
    "y = df[\"MedHouseVal\"]\n",
    "\n",
    "X_train, X_test, y_train, y_test = train_test_split(X, y, test_size=0.2, random_state=42)\n"
   ]
  },
  {
   "cell_type": "markdown",
   "id": "7cb5e5e6",
   "metadata": {},
   "source": [
    "## Model Eğitimi ve Performans Karşılaştırması"
   ]
  },
  {
   "cell_type": "code",
   "execution_count": null,
   "id": "f359d4a0",
   "metadata": {},
   "outputs": [],
   "source": [
    "def evaluate_model(model, name):\n",
    "    model.fit(X_train, y_train)\n",
    "    predictions = model.predict(X_test)\n",
    "    \n",
    "    rmse = np.sqrt(mean_squared_error(y_test, predictions))\n",
    "    r2 = r2_score(y_test, predictions)\n",
    "    \n",
    "    plt.figure(figsize=(6, 4))\n",
    "    sns.scatterplot(x=y_test, y=predictions, alpha=0.4)\n",
    "    plt.xlabel(\"Gerçek Değer\")\n",
    "    plt.ylabel(\"Tahmin\")\n",
    "    plt.title(f\"{name} Tahmin vs Gerçek\")\n",
    "    plt.plot([y_test.min(), y_test.max()], [y_test.min(), y_test.max()], 'r--')\n",
    "    plt.show()\n",
    "    \n",
    "    return {\"model\": name, \"rmse\": rmse, \"r2\": r2}\n"
   ]
  },
  {
   "cell_type": "code",
   "execution_count": null,
   "id": "0a5896ff",
   "metadata": {},
   "outputs": [],
   "source": [
    "results = []\n",
    "\n",
    "lr = LinearRegression()\n",
    "results.append(evaluate_model(lr, \"Linear Regression\"))\n",
    "\n",
    "dt = DecisionTreeRegressor(max_depth=5)\n",
    "results.append(evaluate_model(dt, \"Decision Tree\"))\n",
    "\n",
    "rf = RandomForestRegressor(n_estimators=100, random_state=42)\n",
    "results.append(evaluate_model(rf, \"Random Forest\"))\n"
   ]
  },
  {
   "cell_type": "markdown",
   "id": "60550fa4",
   "metadata": {},
   "source": [
    "## Decision Tree Görselleştirme"
   ]
  },
  {
   "cell_type": "code",
   "execution_count": null,
   "id": "dab825af",
   "metadata": {},
   "outputs": [],
   "source": [
    "plt.figure(figsize=(20, 10))\n",
    "plot_tree(dt, feature_names=X.columns, filled=True, rounded=True, fontsize=8)\n",
    "plt.title(\"Decision Tree Yapısı\")\n",
    "plt.show()\n"
   ]
  },
  {
   "cell_type": "markdown",
   "id": "0e5ca82a",
   "metadata": {},
   "source": [
    "## Model Karşılaştırması"
   ]
  },
  {
   "cell_type": "code",
   "execution_count": null,
   "id": "35c61a24",
   "metadata": {},
   "outputs": [],
   "source": [
    "results_df = pd.DataFrame(results)\n",
    "plt.figure(figsize=(10, 5))\n",
    "sns.barplot(data=results_df, x=\"model\", y=\"r2\")\n",
    "plt.title(\"Modellerin R² Karşılaştırması\")\n",
    "plt.ylabel(\"R Kare Skoru\")\n",
    "plt.show()\n",
    "\n",
    "plt.figure(figsize=(10, 5))\n",
    "sns.barplot(data=results_df, x=\"model\", y=\"rmse\")\n",
    "plt.title(\"Modellerin RMSE Karşılaştırması\")\n",
    "plt.ylabel(\"Root Mean Squared Error\")\n",
    "plt.show()\n"
   ]
  },
  {
   "cell_type": "markdown",
   "id": "2105eb42",
   "metadata": {},
   "source": [
    "## Sonuç\n",
    "Bu çalışmada kullanılan 3 model arasında genellikle Random Forest en iyi performansı göstermektedir.\n",
    "- Linear Regression, doğrusal varsayımlar altında çalışır.\n",
    "- Decision Tree, veriyi bölerek tahmin yapar ancak aşırı öğrenme riski vardır.\n",
    "- Random Forest, çoklu ağaçlardan faydalanarak genelleme gücünü artırır."
   ]
  }
 ],
 "metadata": {
  "kernelspec": {
   "display_name": "Python [conda env:base] *",
   "language": "python",
   "name": "conda-base-py"
  },
  "language_info": {
   "codemirror_mode": {
    "name": "ipython",
    "version": 3
   },
   "file_extension": ".py",
   "mimetype": "text/x-python",
   "name": "python",
   "nbconvert_exporter": "python",
   "pygments_lexer": "ipython3",
   "version": "3.12.7"
  }
 },
 "nbformat": 4,
 "nbformat_minor": 5
}
